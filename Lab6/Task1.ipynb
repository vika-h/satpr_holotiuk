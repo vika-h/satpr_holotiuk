{
 "cells": [
  {
   "cell_type": "code",
   "execution_count": 10,
   "metadata": {},
   "outputs": [
    {
     "name": "stdout",
     "output_type": "stream",
     "text": [
      "Best result:\n",
      "Person 1  -> job 2 \n",
      "Min  {1.9}\n",
      "Person 2  -> job 4 \n",
      "Min  {1.8}\n",
      "Person 3  -> job 3 \n",
      "Min  {2.2}\n",
      "Person 4  -> job 1 \n",
      "Min  {2.0}\n"
     ]
    }
   ],
   "source": [
    "import numpy as np\n",
    "from scipy.optimize import linear_sum_assignment as lsa\n",
    "\n",
    "def printResult(matrix, row_i, col_i):\n",
    "    print(\"Best result:\")\n",
    "    for i in range(len(row_i)):\n",
    "        print(\n",
    "            f\"Person {row_i[i]+1}  -> job {col_i[i]+1} \"\n",
    "        )\n",
    "        print(\"Min \", {matrix[row_i[i], col_i[i]]})\n",
    "\n",
    "matrix = np.matrix([[2.3, 1.9, 2.2, 2.7],\n",
    "                    [1.8, 2.2, 2, 1.8],\n",
    "                    [2.5, 2, 2.2, 3],\n",
    "                    [2, 2.4, 2.4, 2.8]])\n",
    "\n",
    "row_i, col_i = lsa(matrix)\n",
    "printResult(matrix, row_i, col_i)"
   ]
  }
 ],
 "metadata": {
  "kernelspec": {
   "display_name": "Python 3",
   "language": "python",
   "name": "python3"
  },
  "language_info": {
   "codemirror_mode": {
    "name": "ipython",
    "version": 3
   },
   "file_extension": ".py",
   "mimetype": "text/x-python",
   "name": "python",
   "nbconvert_exporter": "python",
   "pygments_lexer": "ipython3",
   "version": "3.12.0"
  }
 },
 "nbformat": 4,
 "nbformat_minor": 2
}
