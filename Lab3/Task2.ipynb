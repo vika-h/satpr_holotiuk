{
 "cells": [
  {
   "cell_type": "markdown",
   "metadata": {},
   "source": [
    "Задача 9\n",
    "\n",
    "Пекарня пече хліб на продаж магазинам. \n",
    "Собівартість однієї булки становить 30 пенсів, її продають за 40 пенсів. \n",
    "У таблиці наведено дані про попит за останні 50 днів:\n",
    "Попит на день, тис. шт.\t10\t12\t14\t16\t18\n",
    "Число днів\t            5\t10\t15\t15\t5\n",
    "\n",
    "Якщо булка спечена, але не продана, то збитки складуть 20 пенсів за штуку. Визначте, скільки булок потрібно випікати в день.\n"
   ]
  },
  {
   "cell_type": "code",
   "execution_count": 109,
   "metadata": {},
   "outputs": [
    {
     "name": "stdout",
     "output_type": "stream",
     "text": [
      "[0.1, 0.2, 0.3, 0.3, 0.1]\n"
     ]
    }
   ],
   "source": [
    "import pandas as pd\n",
    "import numpy as np\n",
    "import matplotlib.pyplot as plt\n",
    "\n",
    "\n",
    "sobivartist_per_bulka = 30  # собівартість однієї булки в пенсах\n",
    "prodaju_per_bulka = 40      # ціна продажу однієї булки в пенсах\n",
    "zbitky_per_bulka = 20       # збитки за непродану булку в пенсах\n",
    "profit_per_bulka = prodaju_per_bulka - sobivartist_per_bulka\n",
    "\n",
    "popit_per_day = [10, 12, 14, 16, 18]\n",
    "amount_of_days = [5, 10, 15, 15, 5]\n",
    "\n",
    "probability_popit = [amount_of_day/sum(amount_of_days) for amount_of_day in amount_of_days]\n",
    "print(probability_popit)"
   ]
  },
  {
   "cell_type": "markdown",
   "metadata": {},
   "source": [
    "Підсумкова таблиця рішення задачі"
   ]
  },
  {
   "cell_type": "code",
   "execution_count": 110,
   "metadata": {},
   "outputs": [],
   "source": [
    "def find_tree(probability_popit, result, resultIncomeList):\n",
    "    for i in range(len(popit_per_day)):\n",
    "        table = []\n",
    "        for j in range(len(popit_per_day)):\n",
    "            sold_per_day = min(popit_per_day[i], popit_per_day[j])\n",
    "            unsold_per_day = max(0, popit_per_day[i] - popit_per_day[j])\n",
    "            expected_daily_profit = sold_per_day * profit_per_bulka\n",
    "            daily_profit = expected_daily_profit - unsold_per_day * zbitky_per_bulka\n",
    "            unsatisfied_demand = max(0, popit_per_day[j] - popit_per_day[i])\n",
    "            prob_demand = probability_popit[j]\n",
    "\n",
    "            table.append([\n",
    "                prob_demand,\n",
    "                popit_per_day[i],\n",
    "                popit_per_day[j],\n",
    "                sold_per_day,\n",
    "                unsold_per_day,\n",
    "                unsatisfied_demand,\n",
    "                expected_daily_profit,\n",
    "                daily_profit\n",
    "            ])\n",
    "\n",
    "        result.append(table)\n",
    "\n",
    "        avarage_expected_daily_profit = np.sum([table_row[6] * table_row[0] for table_row in table])\n",
    "        avarage_daily_profit = np.sum([table_row[7] * table_row[0] for table_row in table])\n",
    "        resultIncomeList.append([avarage_expected_daily_profit, avarage_daily_profit])\n",
    "        "
   ]
  },
  {
   "cell_type": "code",
   "execution_count": 133,
   "metadata": {},
   "outputs": [
    {
     "name": "stdout",
     "output_type": "stream",
     "text": [
      "Таблиця 1: Попит за день - 10\n",
      "   Ймовірність  Спечено  Попит  Продано  Не продано  Не задоволено  \\\n",
      "0  0.1          10       10     10       0           0               \n",
      "1  0.2          10       12     10       0           2               \n",
      "2  0.3          10       14     10       0           4               \n",
      "3  0.3          10       16     10       0           6               \n",
      "4  0.1          10       18     10       0           8               \n",
      "\n",
      "   Очікуваний дохід  Дохід з витратами  \n",
      "0  100               100                \n",
      "1  100               100                \n",
      "2  100               100                \n",
      "3  100               100                \n",
      "4  100               100                \n",
      "\n",
      "\n",
      "Таблиця 2: Попит за день - 12\n",
      "   Ймовірність  Спечено  Попит  Продано  Не продано  Не задоволено  \\\n",
      "0  0.1          12       10     10       2           0               \n",
      "1  0.2          12       12     12       0           0               \n",
      "2  0.3          12       14     12       0           2               \n",
      "3  0.3          12       16     12       0           4               \n",
      "4  0.1          12       18     12       0           6               \n",
      "\n",
      "   Очікуваний дохід  Дохід з витратами  \n",
      "0  100                60                \n",
      "1  120               120                \n",
      "2  120               120                \n",
      "3  120               120                \n",
      "4  120               120                \n",
      "\n",
      "\n",
      "Таблиця 3: Попит за день - 14\n",
      "   Ймовірність  Спечено  Попит  Продано  Не продано  Не задоволено  \\\n",
      "0  0.1          14       10     10       4           0               \n",
      "1  0.2          14       12     12       2           0               \n",
      "2  0.3          14       14     14       0           0               \n",
      "3  0.3          14       16     14       0           2               \n",
      "4  0.1          14       18     14       0           4               \n",
      "\n",
      "   Очікуваний дохід  Дохід з витратами  \n",
      "0  100                20                \n",
      "1  120                80                \n",
      "2  140               140                \n",
      "3  140               140                \n",
      "4  140               140                \n",
      "\n",
      "\n",
      "Таблиця 4: Попит за день - 16\n",
      "   Ймовірність  Спечено  Попит  Продано  Не продано  Не задоволено  \\\n",
      "0  0.1          16       10     10       6           0               \n",
      "1  0.2          16       12     12       4           0               \n",
      "2  0.3          16       14     14       2           0               \n",
      "3  0.3          16       16     16       0           0               \n",
      "4  0.1          16       18     16       0           2               \n",
      "\n",
      "   Очікуваний дохід  Дохід з витратами  \n",
      "0  100               -20                \n",
      "1  120                40                \n",
      "2  140               100                \n",
      "3  160               160                \n",
      "4  160               160                \n",
      "\n",
      "\n",
      "Таблиця 5: Попит за день - 18\n",
      "   Ймовірність  Спечено  Попит  Продано  Не продано  Не задоволено  \\\n",
      "0  0.1          18       10     10       8           0               \n",
      "1  0.2          18       12     12       6           0               \n",
      "2  0.3          18       14     14       4           0               \n",
      "3  0.3          18       16     16       2           0               \n",
      "4  0.1          18       18     18       0           0               \n",
      "\n",
      "   Очікуваний дохід  Дохід з витратами  \n",
      "0  100               -60                \n",
      "1  120                 0                \n",
      "2  140                60                \n",
      "3  160               120                \n",
      "4  180               180                \n",
      "\n",
      "\n",
      "Очікуваний дохід для таблиці 1 100.0\n",
      "Очікуваний дохід з врахуванням витрат для таблиці 1 100.0\n",
      "Очікуваний дохід для таблиці 2 118.0\n",
      "Очікуваний дохід з врахуванням витрат для таблиці 2 114.0\n",
      "Очікуваний дохід для таблиці 3 132.0\n",
      "Очікуваний дохід з врахуванням витрат для таблиці 3 116.0\n",
      "Очікуваний дохід для таблиці 4 140.0\n",
      "Очікуваний дохід з врахуванням витрат для таблиці 4 100.0\n",
      "Очікуваний дохід для таблиці 5 142.0\n",
      "Очікуваний дохід з врахуванням витрат для таблиці 5 66.0\n"
     ]
    }
   ],
   "source": [
    "# Викликаємо функцію\n",
    "result = []\n",
    "resultIncomeList = []\n",
    "\n",
    "find_tree(probability_popit, result, resultIncomeList)\n",
    "\n",
    "# Створюємо DataFrame для кожної таблиці\n",
    "data_frames = []\n",
    "for i, table in enumerate(result):\n",
    "    df = pd.DataFrame(table, columns=[\"Ймовірність\", \"Спечено\", \"Попит\", \"Продано\", \"Не продано\", \"Не задоволено\", \"Очікуваний дохід\", \"Дохід з витратами\"])\n",
    "    data_frames.append((f\"Таблиця {i + 1}: Попит за день - {popit_per_day[i]}\", df))\n",
    "\n",
    "\n",
    "# Виводимо таблиці за допомогою Pandas\n",
    "for name, df in data_frames:\n",
    "    print(name)\n",
    "    print(df)\n",
    "    print(\"\\n\")\n",
    "\n",
    "for i, income in enumerate(resultIncomeList):\n",
    "    print(\"Очікуваний дохід для таблиці\", i+1, resultIncomeList[i][0])\n",
    "    print(\"Очікуваний дохід з врахуванням витрат для таблиці\", i+1, resultIncomeList[i][1])\n"
   ]
  },
  {
   "cell_type": "code",
   "execution_count": 112,
   "metadata": {},
   "outputs": [
    {
     "name": "stdout",
     "output_type": "stream",
     "text": [
      "Максимальний прибуток, якщо випікатиметься така кількість булок (тис): 14.2\n",
      "Максимальний прибуток з урахуванням втрат, якщо випікатиметься така кількість булок (тис): 11.6\n"
     ]
    }
   ],
   "source": [
    "best_result = max(row[0] for row in resultIncomeList)\n",
    "best_resul_demand = max(row[1] for row in resultIncomeList)\n",
    "\n",
    "# Вивести максимальне значення\n",
    "print(\"Максимальний прибуток, якщо випікатиметься така кількість булок (тис):\", best_result/10)\n",
    "print(\"Максимальний прибуток з урахуванням втрат, якщо випікатиметься така кількість булок (тис):\", best_resul_demand/10)\n"
   ]
  },
  {
   "cell_type": "code",
   "execution_count": 122,
   "metadata": {},
   "outputs": [
    {
     "name": "stdout",
     "output_type": "stream",
     "text": [
      "Собівартість: 25, Продаж: 35, Збитки: 15, Прибуток: 394.00 тис. пенсів\n",
      "Собівартість: 25, Продаж: 35, Збитки: 20, Прибуток: 360.00 тис. пенсів\n",
      "Собівартість: 25, Продаж: 35, Збитки: 25, Прибуток: 326.00 тис. пенсів\n",
      "Собівартість: 25, Продаж: 40, Збитки: 15, Прибуток: 394.00 тис. пенсів\n",
      "Собівартість: 25, Продаж: 40, Збитки: 20, Прибуток: 360.00 тис. пенсів\n",
      "Собівартість: 25, Продаж: 40, Збитки: 25, Прибуток: 326.00 тис. пенсів\n",
      "Собівартість: 25, Продаж: 45, Збитки: 15, Прибуток: 394.00 тис. пенсів\n",
      "Собівартість: 25, Продаж: 45, Збитки: 20, Прибуток: 360.00 тис. пенсів\n",
      "Собівартість: 25, Продаж: 45, Збитки: 25, Прибуток: 326.00 тис. пенсів\n",
      "Собівартість: 30, Продаж: 35, Збитки: 15, Прибуток: 394.00 тис. пенсів\n",
      "Собівартість: 30, Продаж: 35, Збитки: 20, Прибуток: 360.00 тис. пенсів\n",
      "Собівартість: 30, Продаж: 35, Збитки: 25, Прибуток: 326.00 тис. пенсів\n",
      "Собівартість: 30, Продаж: 40, Збитки: 15, Прибуток: 394.00 тис. пенсів\n",
      "Собівартість: 30, Продаж: 40, Збитки: 20, Прибуток: 360.00 тис. пенсів\n",
      "Собівартість: 30, Продаж: 40, Збитки: 25, Прибуток: 326.00 тис. пенсів\n",
      "Собівартість: 30, Продаж: 45, Збитки: 15, Прибуток: 394.00 тис. пенсів\n",
      "Собівартість: 30, Продаж: 45, Збитки: 20, Прибуток: 360.00 тис. пенсів\n",
      "Собівартість: 30, Продаж: 45, Збитки: 25, Прибуток: 326.00 тис. пенсів\n",
      "Собівартість: 35, Продаж: 35, Збитки: 15, Прибуток: 394.00 тис. пенсів\n",
      "Собівартість: 35, Продаж: 35, Збитки: 20, Прибуток: 360.00 тис. пенсів\n",
      "Собівартість: 35, Продаж: 35, Збитки: 25, Прибуток: 326.00 тис. пенсів\n",
      "Собівартість: 35, Продаж: 40, Збитки: 15, Прибуток: 394.00 тис. пенсів\n",
      "Собівартість: 35, Продаж: 40, Збитки: 20, Прибуток: 360.00 тис. пенсів\n",
      "Собівартість: 35, Продаж: 40, Збитки: 25, Прибуток: 326.00 тис. пенсів\n",
      "Собівартість: 35, Продаж: 45, Збитки: 15, Прибуток: 394.00 тис. пенсів\n",
      "Собівартість: 35, Продаж: 45, Збитки: 20, Прибуток: 360.00 тис. пенсів\n",
      "Собівартість: 35, Продаж: 45, Збитки: 25, Прибуток: 326.00 тис. пенсів\n"
     ]
    }
   ],
   "source": [
    "# Змінюємо параметри для аналізу чутливості\n",
    "sobivartist_per_bulka_values = [25, 30, 35]  # Різні значення собівартості\n",
    "prodaju_per_bulka_values = [35, 40, 45]      # Різні ціни продажу\n",
    "zbitky_per_bulka_values = [15, 20, 25]       # Різні збитки за непродану булку\n",
    "\n",
    "# Функція для аналізу чутливості\n",
    "def sensitivity_analysis(sobivartist, prodaju, zbitky):\n",
    "    result = []\n",
    "    resultIncomeList = []\n",
    "    popit_per_day = [10, 12, 14, 16, 18]\n",
    "    find_tree(probability_popit, result, resultIncomeList)\n",
    "\n",
    "    total_profit = 0\n",
    "    for table in result:\n",
    "        for row in table:\n",
    "            daily_profit = row[7] - row[4] * zbitky\n",
    "            total_profit += daily_profit * row[0]\n",
    "\n",
    "    return total_profit\n",
    "\n",
    "# Виводимо результати аналізу чутливості\n",
    "for sobivartist in sobivartist_per_bulka_values:\n",
    "    for prodaju in prodaju_per_bulka_values:\n",
    "        for zbitky in zbitky_per_bulka_values:\n",
    "            profit = sensitivity_analysis(sobivartist, prodaju, zbitky)\n",
    "            print(f\"Собівартість: {sobivartist}, Продаж: {prodaju}, Збитки: {zbitky}, Прибуток: {profit:.2f} тис. пенсів\")\n"
   ]
  },
  {
   "cell_type": "markdown",
   "metadata": {},
   "source": [
    "Собівартість булки: Зміна собівартості впливає на прибуток. Зниження собівартості призводить до збільшення прибутку, тоді як її зростання зменшує прибуток. Вибір оптимальної собівартості важливий для максимізації прибутку.\n",
    "\n",
    "Ціна продажу булки: Зміна ціни продажу також впливає на прибуток. Підвищення ціни продажу сприяє збільшенню прибутку, а зниження ціни може зменшити прибуток.\n",
    "\n",
    "Збитки за непродану булку: Збільшення збитків за непродану булку може призвести до зменшення оптимальної кількості булок для випікання, оскільки збільшується втрата від непроданих булок."
   ]
  },
  {
   "cell_type": "code",
   "execution_count": 135,
   "metadata": {},
   "outputs": [
    {
     "data": {
      "image/png": "[encoded data removed]",
      "text/plain": [
       "<Figure size 640x480 with 1 Axes>"
      ]
     },
     "metadata": {},
     "output_type": "display_data"
    }
   ],
   "source": [
    "def utility_function(expected_profit, risk_preference):\n",
    "    # Визначаємо корисність на основі очікуваного прибутку та відношення до ризику\n",
    "    utility = expected_profit * (1 - risk_preference)\n",
    "    \n",
    "    return utility\n",
    "\n",
    "# Параметри виробництва\n",
    "sobivartist_per_bulka = 30\n",
    "prodaju_per_bulka = 40\n",
    "zbitky_per_bulka = 20\n",
    "profit_per_bulka = prodaju_per_bulka - sobivartist_per_bulka\n",
    "\n",
    "# Додаткові параметри\n",
    "production_capacity = 100  # Максимальна кількість випечених булок (тис)\n",
    "\n",
    "# Різні рівні ризику\n",
    "risk_preferences = [0.3, 0.5, 0.7]\n",
    "\n",
    "# Діапазон кількості випечених булок для аналізу\n",
    "baked_quantity_range = range(0, 101)\n",
    "\n",
    "# Зберігаємо корисності для кожного рівня ризику\n",
    "utility_results = {risk: [] for risk in risk_preferences}\n",
    "\n",
    "for risk_preference in risk_preferences:\n",
    "    for baked_quantity in baked_quantity_range:\n",
    "        # Розрахунок очікуваного прибутку для кожної кількості випечених булок\n",
    "        expected_profit = min(baked_quantity, production_capacity) * (prodaju_per_bulka - sobivartist_per_bulka)\n",
    "        \n",
    "        # Визначення корисності за допомогою функції корисності\n",
    "        utility = utility_function(expected_profit, risk_preference)\n",
    "        utility_results[risk_preference].append(utility)\n",
    "\n",
    "# Побудова графіків корисності для різних рівнів ризику\n",
    "for risk_preference, utilities in utility_results.items():\n",
    "    plt.plot(baked_quantity_range, utilities, label=f\"Ризик {risk_preference}\")\n",
    "\n",
    "plt.xlabel('Кількість випечених булок (тис)')\n",
    "plt.ylabel('Корисність')\n",
    "plt.title('Функція корисності для різних рівнів ризику')\n",
    "plt.legend()\n",
    "plt.grid(True)\n",
    "plt.show()\n"
   ]
  },
  {
   "cell_type": "markdown",
   "metadata": {},
   "source": [
    "Отриманий графік відображає залежність корисності від кількості випечених булок для трьох різних рівнів відношення до ризику.\n",
    "\n",
    "1. Ризик 0.3\n",
    ": Для низького рівня врахування ризику корисність зростає досить стрімко зі збільшенням кількості випечених булок. Це означає, що особи з низьким рівнем врахування ризику більше схильні до ризику та обирають стратегії з більшою можливістю високого прибутку.\n",
    "\n",
    "2. Ризик 0.5 (нейтральне ставлення): Помірне врахування ризику призводить до менш стрімкого зростання корисності зі збільшенням виробництва. Ці особи обирають більш збалансовані стратегії, які комбінують можливість високого прибутку з ризиком втрат.\n",
    "\n",
    "3. Ризик 0.7: Високий рівень врахування ризику призводить до практично лінійного зростання корисності зі збільшенням виробництва. Особи з високим рівнем ризику більше оберігаються і обирають менш ризиковані стратегії.\n",
    "\n",
    "Вибір оптимальної кількості булок залежатиме від індивідуальних вподобань та ставлення до ризику кожної конкретної особи."
   ]
  }
 ],
 "metadata": {
  "kernelspec": {
   "display_name": "Python 3",
   "language": "python",
   "name": "python3"
  },
  "language_info": {
   "codemirror_mode": {
    "name": "ipython",
    "version": 3
   },
   "file_extension": ".py",
   "mimetype": "text/x-python",
   "name": "python",
   "nbconvert_exporter": "python",
   "pygments_lexer": "ipython3",
   "version": "3.12.0"
  }
 },
 "nbformat": 4,
 "nbformat_minor": 2
}
