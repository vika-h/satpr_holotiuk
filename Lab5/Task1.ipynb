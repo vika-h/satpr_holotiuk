{
 "cells": [
  {
   "cell_type": "code",
   "execution_count": 155,
   "metadata": {},
   "outputs": [],
   "source": [
    "import numpy as np\n",
    "\n",
    "def saddle_points(matrix):\n",
    "    matrix = np.array(matrix)\n",
    "    row_mins = np.min(matrix, axis=1)\n",
    "    row_maxs = np.max(matrix, axis=1)\n",
    "    col_mins = np.min(matrix, axis=0)\n",
    "    col_maxs = np.max(matrix, axis=0)\n",
    "\n",
    "    saddle_indices = np.argwhere(\n",
    "        (matrix == row_mins[:, np.newaxis]) & (matrix == col_maxs) |\n",
    "        (matrix == row_maxs[:, np.newaxis]) & (matrix == col_mins)\n",
    "    )\n",
    "    \n",
    "    saddlePoints = set(map(tuple, saddle_indices))\n",
    "\n",
    "    print(\"Сідлові точки та їх значення:\")\n",
    "    for point in saddlePoints:\n",
    "             print(f\"Ціна гри - елемент на позиції {point}: {matrix[point]}\")\n",
    "    \n",
    "    return saddlePoints\n",
    "\n",
    "\n",
    "\n",
    "def CheckSaddlePoint(matrix, maxi, mini):\n",
    "    if maxi != mini:\n",
    "        return print(\"Розв'язку в чистих стратегіях немає\")\n",
    "    \n",
    "    saddlePoints = saddle_points(matrix)\n",
    "\n",
    "    if len(saddlePoints) == 0:\n",
    "        print(\"Розв'язку в чистих стратегіях немає\")\n",
    "    else:\n",
    "        print(saddlePoints)\n"
   ]
  },
  {
   "cell_type": "markdown",
   "metadata": {},
   "source": [
    "Задача 5\n",
    "\t    В1\t    В2\t    В3\t    В4\n",
    "А1\t    0,8 \t0,6\t    0,2\t    -0,8\n",
    "А2\t    -0,8\t0,9 \t-0,4\t0,5\n",
    "А3\t    1,7\t    0,5\t    0,3\t    0,6\n"
   ]
  },
  {
   "cell_type": "code",
   "execution_count": 156,
   "metadata": {},
   "outputs": [
    {
     "name": "stdout",
     "output_type": "stream",
     "text": [
      "[[0.8, 0.6, 0.2, -0.8], [-0.8, 0.9, -0.4, 0.5], [1.7, 0.5, 0.3, 0.6]]\n"
     ]
    }
   ],
   "source": [
    "matrix = [\n",
    "    [0.8, 0.6, 0.2, -0.8],\n",
    "    [-0.8, 0.9, -0.4, 0.5],\n",
    "    [1.7, 0.5, 0.3, 0.6],\n",
    "]\n",
    "\n",
    "print(matrix)"
   ]
  },
  {
   "cell_type": "markdown",
   "metadata": {},
   "source": [
    "Нижня ціна гри"
   ]
  },
  {
   "cell_type": "code",
   "execution_count": 157,
   "metadata": {},
   "outputs": [
    {
     "name": "stdout",
     "output_type": "stream",
     "text": [
      "[-0.8 -0.8  0.3]\n",
      "0.3\n"
     ]
    }
   ],
   "source": [
    "minA = np.min(matrix, axis = 1)\n",
    "maxA = max(minA)\n",
    "\n",
    "print(minA)\n",
    "print(maxA)"
   ]
  },
  {
   "cell_type": "markdown",
   "metadata": {},
   "source": [
    "Верхня ціна гри"
   ]
  },
  {
   "cell_type": "code",
   "execution_count": 158,
   "metadata": {},
   "outputs": [
    {
     "name": "stdout",
     "output_type": "stream",
     "text": [
      "[1.7 0.9 0.3 0.6]\n",
      "0.3\n"
     ]
    }
   ],
   "source": [
    "maxB = np.max(matrix, axis = 0)\n",
    "minB = min(maxB)\n",
    "\n",
    "print(maxB)\n",
    "print(minB)"
   ]
  },
  {
   "cell_type": "code",
   "execution_count": 159,
   "metadata": {},
   "outputs": [
    {
     "name": "stdout",
     "output_type": "stream",
     "text": [
      "Сідлові точки та їх значення:\n",
      "Елемент на позиції (2, 2): 0.3\n",
      "{(2, 2)}\n"
     ]
    }
   ],
   "source": [
    "CheckSaddlePoint(matrix, maxA, minB)"
   ]
  },
  {
   "cell_type": "markdown",
   "metadata": {},
   "source": [
    "Отже, стратегія 3(з індексом 2) є оптимальною"
   ]
  },
  {
   "cell_type": "markdown",
   "metadata": {},
   "source": [
    "Сільськогосподарське підприємство вирощує картоплю. Площа ділянки картоплі становить 100 га. Господарство має договір з магазином, який гарантовано закупить всю картоплю по ціні 4 у.г.о . за 1 кг. При вирощуванні картоплі господарство може прийняти одне з трьох рішень, що розрізняються за сумою витрат на виробництво тощо про продукції:\n",
    "A 1. Провести комплексну обробку рослин для запобігання ураження бур'янами, шкідниками і хворобами (витрати - 6 млн. У.г.о .). \n",
    "A 2. Провести часткову обробку рослин (витрати - 4 млн. У.г.о .). \n",
    "A 3. Чи не проводити обробку рослин (витрати - 2.5 млн. У.г.о .). \n",
    "Залежно від погодних умов, наявності та розвитку бур'янів, шкідників і хвороб можливі наступні ситуації: \n",
    "S 1. Умови для розвитку бур'янів, шкідників і хвороб несприятливі. \n",
    "S 2. Умови для розвитку бур'янів, шкідників і хвороб звичайні. \n",
    "S 3. Умови для розвитку бур'янів, шкідників і хвороб сприятливі.  \n",
    "Значення врожайності картоплі (ц / га) залежно від рішень сільськогосподарського підприємства і розвитку бур'янів, шкідників і хвороб тощо і наведені в таблиці\n",
    "\n",
    "\tS1\tS2\tS3\n",
    "A1\t260\t260\t260\n",
    "A2\t255\t200\t145\n",
    "A3\t250\t100\t40\n",
    "\n",
    "Визначте найбільш оптимальну стратегію підприємства і ціну гри. "
   ]
  },
  {
   "cell_type": "code",
   "execution_count": 160,
   "metadata": {},
   "outputs": [
    {
     "name": "stdout",
     "output_type": "stream",
     "text": [
      "[[4400000.0, 4400000.0, 4400000.0], [6200000.0, 4000000.0, 1800000.0], [7500000.0, 1500000.0, -900000.0]]\n"
     ]
    }
   ],
   "source": [
    "# Врожайність картоплі для кожної стратегії та умови\n",
    "harvest_matrix = np.array([\n",
    "    [260, 260, 260],\n",
    "    [255, 200, 145],\n",
    "    [250, 100, 40]\n",
    "])\n",
    "salary = 4\n",
    "# Витрати на виробництво для кожної стратегії\n",
    "costs = np.array([6, 4, 2.5])\n",
    "\n",
    "# Розрахунок матриці виграшу\n",
    "total_score = [[score * salary * 100 * 100 - cost * 1000000 for score, cost in zip(harvest_row, costs)] for harvest_row in zip(*harvest_matrix)]\n",
    "\n",
    "transpose = [list(column) for column in zip(*total_score)]\n",
    "\n",
    "print(transpose)\n"
   ]
  },
  {
   "cell_type": "code",
   "execution_count": 161,
   "metadata": {},
   "outputs": [
    {
     "name": "stdout",
     "output_type": "stream",
     "text": [
      "[4400000. 1800000. -900000.]\n",
      "4400000.0\n"
     ]
    }
   ],
   "source": [
    "min_A = np.min(transpose, axis = 1)\n",
    "max_A = max(min_A)\n",
    "\n",
    "print(min_A)\n",
    "print(max_A)"
   ]
  },
  {
   "cell_type": "code",
   "execution_count": 162,
   "metadata": {},
   "outputs": [
    {
     "name": "stdout",
     "output_type": "stream",
     "text": [
      "[4400000. 6200000. 7500000.]\n",
      "4400000.0\n"
     ]
    }
   ],
   "source": [
    "max_B= np.max(transpose, axis = 1)\n",
    "min_B = min(max_B)\n",
    "\n",
    "print(max_B)\n",
    "print(min_B)"
   ]
  },
  {
   "cell_type": "code",
   "execution_count": 163,
   "metadata": {},
   "outputs": [
    {
     "name": "stdout",
     "output_type": "stream",
     "text": [
      "Сідлові точки та їх значення:\n",
      "Елемент на позиції (0, 1): 4400000.0\n",
      "Елемент на позиції (0, 2): 4400000.0\n",
      "Елемент на позиції (0, 0): 4400000.0\n",
      "{(0, 1), (0, 2), (0, 0)}\n"
     ]
    }
   ],
   "source": [
    "CheckSaddlePoint(transpose, max_A, min_B)"
   ]
  },
  {
   "cell_type": "markdown",
   "metadata": {},
   "source": [
    "Отже, стратегія 1(з індексом 0) є оптимальною."
   ]
  }
 ],
 "metadata": {
  "kernelspec": {
   "display_name": "Python 3",
   "language": "python",
   "name": "python3"
  },
  "language_info": {
   "codemirror_mode": {
    "name": "ipython",
    "version": 3
   },
   "file_extension": ".py",
   "mimetype": "text/x-python",
   "name": "python",
   "nbconvert_exporter": "python",
   "pygments_lexer": "ipython3",
   "version": "3.12.0"
  }
 },
 "nbformat": 4,
 "nbformat_minor": 2
}
