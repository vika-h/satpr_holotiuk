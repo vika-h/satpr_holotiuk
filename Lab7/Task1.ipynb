{
 "cells": [
  {
   "cell_type": "code",
   "execution_count": 2,
   "metadata": {},
   "outputs": [],
   "source": [
    "# Задані дані\n",
    "votes = [\n",
    "    ['A', 'B', 'C', 'D'],\n",
    "    ['C', 'A', 'B', 'D'],\n",
    "    ['B', 'C', 'D', 'A'],\n",
    "    ['C', 'B', 'D', 'A']\n",
    "]\n",
    "\n",
    "amount_of_votes_sequence = [5, 5, 4, 6]\n",
    "\n",
    "# Кількість виборців та кандидатів\n",
    "n = len(amount_of_votes_sequence)\n",
    "m = len(votes)\n",
    "\n",
    "def print_scores(scores):\n",
    "    for candidate, score in scores.items():\n",
    "        print(f\"{candidate}: {score}\")\n"
   ]
  },
  {
   "cell_type": "code",
   "execution_count": 6,
   "metadata": {},
   "outputs": [
    {
     "name": "stdout",
     "output_type": "stream",
     "text": [
      "A: 5\n",
      "B: 4\n",
      "C: 11\n",
      "D: 0\n",
      "Переможець: Кандидат C з 11 голосами\n"
     ]
    }
   ],
   "source": [
    "scores_majority = {candidate: 0 for candidate in votes[0]}\n",
    "\n",
    "# Підрахунок кількості голосів за кожного кандидата на першому місці\n",
    "for i in range(n):\n",
    "    candidate = votes[i][0]\n",
    "    scores_majority[candidate] += amount_of_votes_sequence[i]\n",
    "\n",
    "winner_majority = max(scores_majority, key=scores_majority.get)\n",
    "\n",
    "print_scores(scores_majority)\n",
    "print(f\"Переможець: Кандидат {winner_majority} з {scores_majority[winner_majority]} голосами\")"
   ]
  },
  {
   "cell_type": "code",
   "execution_count": 5,
   "metadata": {},
   "outputs": [
    {
     "name": "stdout",
     "output_type": "stream",
     "text": [
      "Переможець: Кандидат C з 11 голосами (абсолютна більшість)\n"
     ]
    }
   ],
   "source": [
    "scores_absolute_majority = {candidate: 0 for candidate in votes[0]}\n",
    "# Підрахунок кількості голосів за кожного кандидата на першому місці\n",
    "for i in range(n):\n",
    "    candidate = votes[i][0]\n",
    "    scores_absolute_majority[candidate] += amount_of_votes_sequence[i]\n",
    "\n",
    "# Знаходження кандидата з більшістю голосів\n",
    "majority_threshold = n // 2 + 1\n",
    "winner_absolute_majority = max(scores_absolute_majority, key=scores_absolute_majority.get)\n",
    "\n",
    "# Перевірка на абсолютну більшість\n",
    "if scores_absolute_majority[winner_absolute_majority] >= majority_threshold:\n",
    "    print(f\"Переможець: Кандидат {winner_absolute_majority} з {scores_absolute_majority[winner_absolute_majority]} голосами (абсолютна більшість)\")\n",
    "else:\n",
    "    # Знаходження двох кандидатів з відносною більшістю для другого туру\n",
    "    second_round_candidates = sorted(scores_absolute_majority, key=scores_absolute_majority.get, reverse=True)[:2]\n",
    "    print(f\"Другий тур: Кандидати {second_round_candidates}\")"
   ]
  },
  {
   "cell_type": "code",
   "execution_count": 3,
   "metadata": {},
   "outputs": [
    {
     "name": "stdout",
     "output_type": "stream",
     "text": [
      "A: 25\n",
      "B: 39\n",
      "C: 46\n",
      "D: 10\n",
      "Переможець: Кандидат C з 46 балами за методом Борда\n"
     ]
    }
   ],
   "source": [
    "scores_borda = {candidate: 0 for candidate in votes[0]}\n",
    "\n",
    "borda_weights = [3, 2, 1, 0]\n",
    "\n",
    "# Розрахунок балів за методом Борда\n",
    "for i in range(len(votes)):\n",
    "    for j in range(len(votes[i])):\n",
    "        scores_borda[votes[i][j]] += borda_weights[j] * amount_of_votes_sequence[i]\n",
    "\n",
    "print_scores(scores_borda)\n",
    "\n",
    "winner_borda = max(scores_borda, key=scores_borda.get)\n",
    "print(f\"Переможець: Кандидат {winner_borda} з {scores_borda[winner_borda]} балами за методом Борда\")"
   ]
  },
  {
   "cell_type": "code",
   "execution_count": 21,
   "metadata": {},
   "outputs": [
    {
     "name": "stdout",
     "output_type": "stream",
     "text": [
      "A: 0\n",
      "B: 1\n",
      "C: 3\n",
      "D: 0\n",
      "Переможець за методом Кондорсе: C\n"
     ]
    }
   ],
   "source": [
    "# Функція для порівняння двох кандидатів\n",
    "def compare_candidates(candidate1, candidate2):\n",
    "    count_winner1 = 0\n",
    "    count_winner2 = 0\n",
    "\n",
    "    for vote in votes:\n",
    "        if vote.index(candidate1) < vote.index(candidate2):\n",
    "            count_winner1 += amount_of_votes_sequence[votes.index(vote)]\n",
    "        if vote.index(candidate1) > vote.index(candidate2):\n",
    "            count_winner2 += amount_of_votes_sequence[votes.index(vote)]\n",
    "\n",
    "    return count_winner1, count_winner2\n",
    "\n",
    "# Ініціалізація кількості перемог для кожного кандидата\n",
    "wins = {candidate: 0 for candidate in votes[0]}\n",
    "\n",
    "# Порівняння кандидатів і підрахунок перемог\n",
    "candidates = list(wins.keys())\n",
    "for i in range(len(candidates)):\n",
    "    for j in range(i + 1, len(candidates)):\n",
    "        wins_candidate1, wins_candidate2 = compare_candidates(candidates[i], candidates[j])\n",
    "        if wins_candidate1 > wins_candidate2:\n",
    "            wins[candidates[i]] += 1\n",
    "        if wins_candidate1 < wins_candidate2:\n",
    "            wins[candidates[j]] += 1\n",
    "\n",
    "winner = max(wins, key=wins.get)\n",
    "\n",
    "print(f\"Переможець за методом Кондорсе: {winner}\")\n",
    "print_scores(wins)"
   ]
  },
  {
   "cell_type": "code",
   "execution_count": 22,
   "metadata": {},
   "outputs": [
    {
     "name": "stdout",
     "output_type": "stream",
     "text": [
      "Переможець Копленда: C\n",
      "A: -1\n",
      "B: 0\n",
      "C: 3\n",
      "D: -2\n"
     ]
    }
   ],
   "source": [
    "# Функція для порівняння двох кандидатів\n",
    "def compare_candidates_kop(candidate1, candidate2):\n",
    "    count_1 = 0\n",
    "    count_2 = 0\n",
    "\n",
    "    for vote in votes:\n",
    "        if vote.index(candidate1) < vote.index(candidate2):\n",
    "            count_1 += amount_of_votes_sequence[votes.index(vote)]\n",
    "        elif vote.index(candidate1) > vote.index(candidate2):\n",
    "            count_2 += amount_of_votes_sequence[votes.index(vote)]\n",
    "\n",
    "    if count_1 == count_2:\n",
    "        return 0\n",
    "    if count_1 > count_2:\n",
    "        return 1\n",
    "    if count_1 < count_2:\n",
    "        return -1\n",
    "\n",
    "# Ініціалізація оцінок Копленда для кожного кандидата\n",
    "copeland_scores = {candidate: 0 for candidate in votes[0]}\n",
    "\n",
    "# Порівняння кандидатів і підрахунок оцінок Копленда\n",
    "candidates = list(copeland_scores.keys())\n",
    "for i in range(len(candidates)):\n",
    "    for j in range(len(candidates)):\n",
    "        if i != j:\n",
    "            score = compare_candidates_kop(candidates[j], candidates[i])\n",
    "            copeland_scores[candidates[j]] += score\n",
    "\n",
    "winners = [candidate for candidate, score in copeland_scores.items() if score == max(copeland_scores.values())]\n",
    "\n",
    "print(f\"Переможець Копленда: {', '.join(winners)}\")\n",
    "print_scores(copeland_scores)"
   ]
  },
  {
   "cell_type": "code",
   "execution_count": 34,
   "metadata": {},
   "outputs": [
    {
     "name": "stdout",
     "output_type": "stream",
     "text": [
      "Переможець Сімпсона: C\n",
      "A: 5\n",
      "B: 9\n",
      "C: 11\n",
      "D: 0\n"
     ]
    }
   ],
   "source": [
    "# Функція для порівняння двох кандидатів\n",
    "def compare_candidates_sim(candidate1, candidate2):\n",
    "    count_winner1 = 0\n",
    "    count_winner2 = 0\n",
    "\n",
    "    for vote in votes:\n",
    "        if vote.index(candidate1) < vote.index(candidate2):\n",
    "            count_winner1 += amount_of_votes_sequence[votes.index(vote)]\n",
    "        if vote.index(candidate1) > vote.index(candidate2):\n",
    "            count_winner2 += amount_of_votes_sequence[votes.index(vote)]\n",
    "\n",
    "    return count_winner1\n",
    "\n",
    "# Ініціалізація оцінок Сімпсона для кожного кандидата\n",
    "simpson_scores = {candidate: 0 for candidate in votes[0]}\n",
    "\n",
    "# Порівняння кандидатів і підрахунок оцінок Сімпсона\n",
    "candidates = list(simpson_scores.keys())\n",
    "\n",
    "for i in range(len(candidates)):\n",
    "    result_of_sim = list()\n",
    "    for j in range(len(candidates)):\n",
    "        if i != j:\n",
    "            score = compare_candidates_sim(candidates[i], candidates[j])\n",
    "            result_of_sim.append(score)\n",
    "    simpson_scores[candidates[i]] = min(result_of_sim)\n",
    "\n",
    "\n",
    "winners = [candidate for candidate, score in copeland_scores.items() if score == max(copeland_scores.values())]\n",
    "\n",
    "print(f\"Переможець Сімпсона: {', '.join(winners)}\")\n",
    "print_scores(simpson_scores)"
   ]
  }
 ],
 "metadata": {
  "kernelspec": {
   "display_name": "Python 3",
   "language": "python",
   "name": "python3"
  },
  "language_info": {
   "codemirror_mode": {
    "name": "ipython",
    "version": 3
   },
   "file_extension": ".py",
   "mimetype": "text/x-python",
   "name": "python",
   "nbconvert_exporter": "python",
   "pygments_lexer": "ipython3",
   "version": "3.12.0"
  }
 },
 "nbformat": 4,
 "nbformat_minor": 2
}
