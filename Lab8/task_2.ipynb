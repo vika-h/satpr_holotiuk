{
 "cells": [
  {
   "cell_type": "code",
   "execution_count": 1,
   "metadata": {},
   "outputs": [
    {
     "name": "stdout",
     "output_type": "stream",
     "text": [
      "Оптимальний план:\n",
      "[[110.   0.   0.   0. 140.]\n",
      " [ 10. 130.  60.   0.   0.]\n",
      " [  0.   0.  40. 160.   0.]]\n",
      "\n",
      "Total Cost: 18440.0\n"
     ]
    }
   ],
   "source": [
    "import numpy as np\n",
    "from scipy.optimize import linprog\n",
    "\n",
    "costs = np.array([[27, 36, 35, 31, 29],\n",
    "                  [22, 23, 26, 32, 35],\n",
    "                  [35, 42, 38, 32, 39]])\n",
    "\n",
    "supply = np.array([250, 200, 200])\n",
    "demand = np.array([120, 130, 100, 160, 140])\n",
    "\n",
    "# Розгортаємо матрицю вартостей для використання в функції лінійного програмування\n",
    "c = costs.flatten()\n",
    "\n",
    "# Матриця обмежень (A_eq) та права частина рівняння (b_eq)\n",
    "A_eq = np.zeros((len(supply) + len(demand), len(c)))\n",
    "b_eq = np.zeros(len(supply) + len(demand))\n",
    "\n",
    "# Додаємо обмеження на постачання та на попит\n",
    "for i in range(len(supply)):\n",
    "    A_eq[i, i * len(demand):(i + 1) * len(demand)] = 1\n",
    "    b_eq[i] = supply[i]\n",
    "\n",
    "for j in range(len(demand)):\n",
    "    A_eq[len(supply) + j, j:len(c):len(demand)] = 1\n",
    "    b_eq[len(supply) + j] = demand[j]\n",
    "\n",
    "# Розв'язуємо задачу лінійного програмування\n",
    "result = linprog(c, A_eq=A_eq, b_eq=b_eq, method='highs')\n",
    "solution = result.x.reshape(costs.shape)\n",
    "\n",
    "print(\"Оптимальний план:\")\n",
    "print(solution)\n",
    "print(\"\\nTotal Cost:\", result.fun)\n",
    "\n"
   ]
  }
 ],
 "metadata": {
  "kernelspec": {
   "display_name": "Python 3",
   "language": "python",
   "name": "python3"
  },
  "language_info": {
   "codemirror_mode": {
    "name": "ipython",
    "version": 3
   },
   "file_extension": ".py",
   "mimetype": "text/x-python",
   "name": "python",
   "nbconvert_exporter": "python",
   "pygments_lexer": "ipython3",
   "version": "3.12.0"
  }
 },
 "nbformat": 4,
 "nbformat_minor": 2
}
