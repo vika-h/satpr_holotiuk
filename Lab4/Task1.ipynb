{
 "cells": [
  {
   "cell_type": "markdown",
   "metadata": {},
   "source": [
    "Торговельне підприємство планує продаж сезонних товарів на\n",
    "ринках, враховуючи можливі варіанти купівельного попиту (П1 , П2 , П3 , П4 , П5 ) −\n",
    "дуже низький, низький, середній, високий та дуже високий. На підприємстві\n",
    "розроблено чотири господарських стратегії продажу товарів\t( A1 , A2 , A3 , A4 ) .\n",
    "Товарообіг, що залежить від стратегій підприємства й купівельного попиту, представлено у вигляді платіжної матриці. \n",
    "\n",
    "Платіжна матриця\n",
    "\tП1\t           П2\t              П3\t     П4\t             П5\n",
    "A1\t180\t           140          \t   k  \t    (245 − 4k)\t    232\n",
    "A2\t420\t          (120+10k)\t          140       220\t            100\n",
    "A3\t(25 + 8k)\t   315\t               35\t    49              (10(k + 23) − 50)\n",
    "A4\t(290−10k)\t   k                  \t9     \t(100k − 90)      201\n",
    "\n",
    "Потрібно знайти оптимальну стратегію поведінки торговельного підприємства, використовуючи критерії \n",
    "песимізму, \n",
    "оптимізму, \n",
    "Гурвіца (λ = 1/k+1 при k = [3, 12];  λ = 4/k при k = [13, 26]),  \n",
    "Лапласа, \n",
    "Байєса-Лапласа (p1= 0,1 p2 = 0,2  p3 = λ p4 = λ + 0,1 p5 = 1 − p1 − p2 − p3 − p4 ) \n",
    "та Ходжа-Лемана.\n"
   ]
  },
  {
   "cell_type": "code",
   "execution_count": 1,
   "metadata": {},
   "outputs": [
    {
     "name": "stdout",
     "output_type": "stream",
     "text": [
      "[[180, 140, 5, 225, 232], [420, 170, 140, 220, 100], [65, 315, 35, 49, 230], [240, 5, 9, 410, 201]]\n"
     ]
    }
   ],
   "source": [
    "k = 5\n",
    "\n",
    "if k >= 1 | k <= 12 : \n",
    "    lambda_value = 1 / (k + 3)\n",
    "else:\n",
    "    lambda_value = 4 / k\n",
    "\n",
    "matrix = [\n",
    "    [180, 140, k, (245-4*k), 232],\n",
    "    [420, (120+10*k), 140, 220, 100],\n",
    "    [(25+8*k), 315, 35, 49, (10*(k+23)-50)],\n",
    "    [(290-10*k), k, 9, (100*k-90), 201]\n",
    "]\n",
    "\n",
    "candidates_names = ['A1', 'A2', 'A3', 'A4']\n",
    "\n",
    "p = [0.1, 0.2, lambda_value, lambda_value + 0.1, 0.6 - 2 * lambda_value]\n",
    "\n",
    "print(matrix)\n"
   ]
  },
  {
   "cell_type": "markdown",
   "metadata": {},
   "source": [
    "Критерій Лапласа"
   ]
  },
  {
   "cell_type": "code",
   "execution_count": 2,
   "metadata": {},
   "outputs": [
    {
     "name": "stdout",
     "output_type": "stream",
     "text": [
      "[156.4, 210.0, 138.8, 173.0]\n",
      "Найкраща альтернатива за Критерієм Лапласа: A2\n"
     ]
    }
   ],
   "source": [
    "average_scores = [sum(scores) / len(scores) for scores in matrix]\n",
    "\n",
    "best_index_by_Laplas = average_scores.index(max(average_scores))\n",
    "best_name_by_Laplas = candidates_names[best_index_by_Laplas]\n",
    "\n",
    "print(average_scores)\n",
    "print(f\"Найкраща альтернатива за Критерієм Лапласа: {best_name_by_Laplas}\")"
   ]
  },
  {
   "cell_type": "markdown",
   "metadata": {},
   "source": [
    "Критерій Гурвіца"
   ]
  },
  {
   "cell_type": "code",
   "execution_count": 3,
   "metadata": {},
   "outputs": [
    {
     "name": "stdout",
     "output_type": "stream",
     "text": [
      "[203.625, 380.0, 280.0, 359.375]\n",
      "Найкраща альтернатива за Критерієм Гурвіца: A2\n"
     ]
    }
   ],
   "source": [
    "gurvitz_scores = [(lambda_value * min(strategia) + (1 - lambda_value) * max(strategia)) for strategia in matrix]\n",
    "\n",
    "best_index_gurvitz = gurvitz_scores.index(max(gurvitz_scores))\n",
    "best_name_gurvitz= candidates_names[best_index_gurvitz]\n",
    "\n",
    "print(gurvitz_scores)\n",
    "print(f\"Найкраща альтернатива за Критерієм Гурвіца: {best_name_gurvitz}\")"
   ]
  },
  {
   "cell_type": "markdown",
   "metadata": {},
   "source": [
    "Критерій песимізму"
   ]
  },
  {
   "cell_type": "code",
   "execution_count": 4,
   "metadata": {},
   "outputs": [
    {
     "name": "stdout",
     "output_type": "stream",
     "text": [
      "[5, 100, 35, 5]\n",
      "Найкраща альтернатива за Критерієм песимізму: A2\n"
     ]
    }
   ],
   "source": [
    "pessimism_scores = [min(strategia) for strategia in matrix]\n",
    "\n",
    "best_index_pes = pessimism_scores.index(max(pessimism_scores))\n",
    "best_name_pes = candidates_names[best_index_pes]\n",
    "\n",
    "print(pessimism_scores)\n",
    "print(f\"Найкраща альтернатива за Критерієм песимізму: {best_name_pes}\")"
   ]
  },
  {
   "cell_type": "markdown",
   "metadata": {},
   "source": [
    "Критерій оптимізму"
   ]
  },
  {
   "cell_type": "code",
   "execution_count": 5,
   "metadata": {},
   "outputs": [
    {
     "name": "stdout",
     "output_type": "stream",
     "text": [
      "[232, 420, 315, 410]\n",
      "Найкраща альтернатива за Критерій оптимізму: A1\n"
     ]
    }
   ],
   "source": [
    "optimism_scores = [max(strategia) for strategia in matrix]\n",
    "\n",
    "best_index_opt = optimism_scores.index(min(optimism_scores))\n",
    "best_name_opt = candidates_names[best_index_opt]\n",
    "\n",
    "print(optimism_scores)\n",
    "print(f\"Найкраща альтернатива за Критерій оптимізму: {best_name_opt}\")"
   ]
  },
  {
   "cell_type": "markdown",
   "metadata": {},
   "source": [
    "Критерій Байєса-Лапласа"
   ]
  },
  {
   "cell_type": "code",
   "execution_count": 6,
   "metadata": {},
   "outputs": [
    {
     "name": "stdout",
     "output_type": "stream",
     "text": [
      "[178.45, 178.0, 165.4, 188.725]\n",
      "Найкраща альтернатива за Критерієм Байєса-Лапласа: A4\n"
     ]
    }
   ],
   "source": [
    "expected_effects_bl = [sum(score * prob for score, prob in zip(strategia, p)) for strategia in matrix]\n",
    "\n",
    "best_index_bl = expected_effects_bl.index(max(expected_effects_bl))\n",
    "best_name_bl = candidates_names[best_index_bl]\n",
    "\n",
    "print(expected_effects_bl)\n",
    "print(f\"Найкраща альтернатива за Критерієм Байєса-Лапласа: {best_name_bl}\")"
   ]
  },
  {
   "cell_type": "markdown",
   "metadata": {},
   "source": [
    " Критерій Ходжа-Лемана "
   ]
  },
  {
   "cell_type": "code",
   "execution_count": 7,
   "metadata": {},
   "outputs": [
    {
     "name": "stdout",
     "output_type": "stream",
     "text": [
      "[225.30625, 389.75, 296.3, 382.340625]\n",
      "Найкраща альтернатива за Критерієм Ходжа-Лемана (λ = 0.125): A2\n"
     ]
    }
   ],
   "source": [
    "expected_effects_hl = [sum(score * prob for score, prob in zip(strategia, p)) for strategia in matrix]\n",
    "\n",
    "target_functions = [lambda_value * expected_effect + (1 - lambda_value) * max(strategia) for expected_effect, strategia in zip(expected_effects_hl, matrix)]\n",
    "\n",
    "best_index_hl = target_functions.index(max(target_functions))\n",
    "best_name_hl = candidates_names[best_index_hl]\n",
    "\n",
    "print(target_functions)\n",
    "print(f\"Найкраща альтернатива за Критерієм Ходжа-Лемана (λ = {lambda_value}): {best_name_hl}\")"
   ]
  }
 ],
 "metadata": {
  "kernelspec": {
   "display_name": "Python 3",
   "language": "python",
   "name": "python3"
  },
  "language_info": {
   "codemirror_mode": {
    "name": "ipython",
    "version": 3
   },
   "file_extension": ".py",
   "mimetype": "text/x-python",
   "name": "python",
   "nbconvert_exporter": "python",
   "pygments_lexer": "ipython3",
   "version": "3.12.0"
  }
 },
 "nbformat": 4,
 "nbformat_minor": 2
}
