{
 "cells": [
  {
   "cell_type": "markdown",
   "metadata": {},
   "source": [
    "Директор приватного підприємства має намір прийняти на посаду юриста одного фахівця. Є п'ять кандидатів на цю посаду: А1, А2, А3, А4, А5. В якості критеріїв виступають: Освіта (100 бальна система, К1), Розмір зарплати, яку хоче отримувати претендент (тис. грн. на місяць, К2); Стаж роботи на юридичній посаді (років, К3); Частка виграних справ  у суді; Характеристики з місць попередніх робіт, авторитет (10 бальна система). Оцінки альтернатив за всіма критеріями, а також ваги критеріїв наведені в таблиці:\n",
    "\tК1\tК2\tК3\tК4\t    К5\n",
    "А1\t85\t30\t22\t0,65\t6\n",
    "А2\t60\t20\t10\t0,6\t    7\n",
    "А3\t30\t12\t5\t0,45\t5\n",
    "А4\t75\t24\t13\t0,7\t    8\n",
    "А5\t40\t15\t7\t0,55\t7\n",
    "\n",
    "Вага\t7\t5\t6\t8\t6\n",
    "Яким буде оптимальне рішення з прийому на посаду юриста?\n"
   ]
  },
  {
   "cell_type": "code",
   "execution_count": 190,
   "metadata": {},
   "outputs": [
    {
     "name": "stdout",
     "output_type": "stream",
     "text": [
      "[[85, 30, 22, 0.65, 6], [60, 20, 10, 0.6, 7], [30, 12, 5, 0.45, 5], [75, 24, 13, 0.7, 8], [40, 15, 7, 0.55, 7]]\n",
      "\n"
     ]
    }
   ],
   "source": [
    "lawyers = [\n",
    "    [85, 30, 22, 0.65, 6],\n",
    "    [60, 20, 10, 0.6, 7],\n",
    "    [30, 12, 5, 0.45, 5],\n",
    "    [75, 24, 13, 0.7, 8],\n",
    "    [40, 15, 7, 0.55, 7]\n",
    "]\n",
    "\n",
    "candidates_names = ['A1', 'A2', 'A3', 'A4', 'A5']\n",
    "\n",
    "weights = [7, 5, 6, 8, 6]\n",
    "\n",
    "mins = [min(col) for col in zip(*lawyers)]\n",
    "maxs = [max(col) for col in zip (*lawyers)]\n",
    "\n",
    "print(lawyers)\n",
    "print(\"\")\n",
    "\n"
   ]
  },
  {
   "cell_type": "code",
   "execution_count": 191,
   "metadata": {},
   "outputs": [
    {
     "name": "stdout",
     "output_type": "stream",
     "text": [
      "[[1.0, 0.0, 1.0, 0.8000000000000003, 0.3333333333333333], [0.5454545454545454, 0.5555555555555556, 0.29411764705882354, 0.6, 0.6666666666666666], [0.0, 1.0, 0.0, 0.0, 0.0], [0.8181818181818182, 0.3333333333333333, 0.47058823529411764, 1.0, 1.0], [0.18181818181818182, 0.8333333333333334, 0.11764705882352941, 0.40000000000000024, 0.6666666666666666]]\n"
     ]
    }
   ],
   "source": [
    "# Нормалізація оцінок за кожним критерієм\n",
    "normalized_lawyers = []\n",
    "for lawyer in lawyers:\n",
    "    normalized_lawyer = [(x - min_val) / (max_val - min_val) for x, min_val, max_val in zip(lawyer, mins, maxs)]\n",
    "    normalized_lawyers.append(normalized_lawyer)\n",
    "\n",
    "for i in range(len(lawyers)):\n",
    "    normalized_lawyers[i][1] = (maxs[1] - lawyers[i][1]) / (maxs[1] - mins[1])\n",
    "\n",
    "print(normalized_lawyers)\n",
    "\n"
   ]
  },
  {
   "cell_type": "code",
   "execution_count": 192,
   "metadata": {},
   "outputs": [
    {
     "name": "stdout",
     "output_type": "stream",
     "text": [
      "[[7.0, 0.0, 6.0, 6.400000000000002, 2.0], [3.818181818181818, 2.7777777777777777, 1.7647058823529411, 4.8, 4.0], [0.0, 5.0, 0.0, 0.0, 0.0], [5.7272727272727275, 1.6666666666666665, 2.8235294117647056, 8.0, 6.0], [1.2727272727272727, 4.166666666666667, 0.7058823529411764, 3.200000000000002, 4.0]]\n"
     ]
    }
   ],
   "source": [
    "# Обчислення нормалізованої оцінки для кожного адвоката з врахуванням ваг критеріїв\n",
    "weighted_scores = []\n",
    "\n",
    "for lawyer in normalized_lawyers:\n",
    "    weighted_score = [score * weight for score, weight in zip(lawyer, weights)]\n",
    "    weighted_scores.append(weighted_score)\n",
    "\n",
    "print(weighted_scores)\n"
   ]
  },
  {
   "cell_type": "markdown",
   "metadata": {},
   "source": [
    "Критерій Лапласа"
   ]
  },
  {
   "cell_type": "code",
   "execution_count": 193,
   "metadata": {},
   "outputs": [
    {
     "name": "stdout",
     "output_type": "stream",
     "text": [
      "[4.28, 3.4321330956625076, 1.0, 4.84349376114082, 2.6690552584670235]\n",
      "Найкраща альтернатива за Критерієм Лапласа: A4\n"
     ]
    }
   ],
   "source": [
    "average_scores = [sum(scores) / len(scores) for scores in weighted_scores]\n",
    "\n",
    "best_lawyer_index_by_Laplas = average_scores.index(max(average_scores))\n",
    "best_lawyer_name_by_Laplas = candidates_names[best_lawyer_index_by_Laplas]\n",
    "\n",
    "print(average_scores)\n",
    "print(f\"Найкраща альтернатива за Критерієм Лапласа: {best_lawyer_name_by_Laplas}\")"
   ]
  },
  {
   "cell_type": "markdown",
   "metadata": {},
   "source": [
    "Критерій Гурвіца"
   ]
  },
  {
   "cell_type": "code",
   "execution_count": 194,
   "metadata": {},
   "outputs": [
    {
     "name": "stdout",
     "output_type": "stream",
     "text": [
      "[3.5, 3.2823529411764705, 2.5, 4.833333333333333, 2.436274509803922]\n",
      "Найкраща альтернатива за Критерієм Гурвіца: A4\n"
     ]
    }
   ],
   "source": [
    "alpha = 0.5 \n",
    "\n",
    "gurvitz_scores = [(alpha * min(lawyer) + (1 - alpha) * max(lawyer)) for lawyer in weighted_scores]\n",
    "\n",
    "best_lawyer_index_gurvitz = gurvitz_scores.index(max(gurvitz_scores))\n",
    "best_lawyer_name_gurvitz= candidates_names[best_lawyer_index_gurvitz]\n",
    "\n",
    "print(gurvitz_scores)\n",
    "print(f\"Найкраща альтернатива за Критерієм Гурвіца: {best_lawyer_name_gurvitz}\")"
   ]
  },
  {
   "cell_type": "markdown",
   "metadata": {},
   "source": [
    "Критерій песимізму"
   ]
  },
  {
   "cell_type": "code",
   "execution_count": 195,
   "metadata": {},
   "outputs": [
    {
     "name": "stdout",
     "output_type": "stream",
     "text": [
      "[0.0, 1.7647058823529411, 0.0, 1.6666666666666665, 0.7058823529411764]\n",
      "Найкраща альтернатива за Критерієм песимізму: A2\n"
     ]
    }
   ],
   "source": [
    "pessimism_scores = [min(scores) for scores in weighted_scores]\n",
    "\n",
    "best_lawyer_index_pes = pessimism_scores.index(max(pessimism_scores))\n",
    "best_lawyer_name_pes = candidates_names[best_lawyer_index_pes]\n",
    "\n",
    "print(pessimism_scores)\n",
    "print(f\"Найкраща альтернатива за Критерієм песимізму: {best_lawyer_name_pes}\")"
   ]
  },
  {
   "cell_type": "markdown",
   "metadata": {},
   "source": [
    "Критерій оптимізму"
   ]
  },
  {
   "cell_type": "code",
   "execution_count": 196,
   "metadata": {},
   "outputs": [
    {
     "name": "stdout",
     "output_type": "stream",
     "text": [
      "[7.0, 4.8, 5.0, 8.0, 4.166666666666667]\n",
      "Найкраща альтернатива за Критерій оптимізму: A5\n"
     ]
    }
   ],
   "source": [
    "optimism_scores = [max(lawyer) for lawyer in weighted_scores]\n",
    "\n",
    "best_lawyer_index_opt = optimism_scores.index(min(optimism_scores))\n",
    "best_lawyer_name_opt = candidates_names[best_lawyer_index_opt]\n",
    "\n",
    "print(optimism_scores)\n",
    "print(f\"Найкраща альтернатива за Критерій оптимізму: {best_lawyer_name_opt}\")"
   ]
  },
  {
   "cell_type": "markdown",
   "metadata": {},
   "source": [
    "Критерій Байєса-Лапласа"
   ]
  },
  {
   "cell_type": "code",
   "execution_count": 197,
   "metadata": {},
   "outputs": [
    {
     "name": "stdout",
     "output_type": "stream",
     "text": [
      "[11.280000000000003, 8.124289958407605, 2.5, 11.637611408199643, 6.34258467023173]\n",
      "Найкраща альтернатива за Критерієм Байєса-Лапласа: A4\n"
     ]
    }
   ],
   "source": [
    "p = [0.2, 0.5, 0.8, 0.7, 0.3]\n",
    "\n",
    "expected_effects_bl = [sum(score * prob for score, prob in zip(lawyer_scores, p)) for lawyer_scores in weighted_scores]\n",
    "\n",
    "best_alternative_index_bl = expected_effects_bl.index(max(expected_effects_bl))\n",
    "best_alternative_name_bl = candidates_names[best_alternative_index_bl]\n",
    "\n",
    "print(expected_effects_bl)\n",
    "print(f\"Найкраща альтернатива за Критерієм Байєса-Лапласа: {best_alternative_name_bl}\")\n"
   ]
  },
  {
   "cell_type": "markdown",
   "metadata": {},
   "source": [
    " Критерій Ходжа-Лемана "
   ]
  },
  {
   "cell_type": "code",
   "execution_count": 198,
   "metadata": {},
   "outputs": [
    {
     "name": "stdout",
     "output_type": "stream",
     "text": [
      "[9.14, 6.462144979203803, 3.75, 9.818805704099821, 5.254625668449199]\n",
      "Найкраща альтернатива за Критерієм Ходжа-Лемана (λ = 0.5): A4\n"
     ]
    }
   ],
   "source": [
    "lambda_value = 0.5\n",
    "\n",
    "expected_effects_hl = [sum(score * prob for score, prob in zip(lawyer_scores, p)) for lawyer_scores in weighted_scores]\n",
    "\n",
    "\n",
    "target_functions = [lambda_value * expected_effect + (1 - lambda_value) * max(lawyer) for expected_effect, lawyer in zip(expected_effects_hl, weighted_scores)]\n",
    "\n",
    "best_alternative_index_hl = target_functions.index(max(target_functions))\n",
    "best_alternative_name_hl = candidates_names[best_alternative_index_hl]\n",
    "\n",
    "print(target_functions)\n",
    "print(f\"Найкраща альтернатива за Критерієм Ходжа-Лемана (λ = {lambda_value}): {best_alternative_name_hl}\")"
   ]
  }
 ],
 "metadata": {
  "kernelspec": {
   "display_name": "Python 3",
   "language": "python",
   "name": "python3"
  },
  "language_info": {
   "codemirror_mode": {
    "name": "ipython",
    "version": 3
   },
   "file_extension": ".py",
   "mimetype": "text/x-python",
   "name": "python",
   "nbconvert_exporter": "python",
   "pygments_lexer": "ipython3",
   "version": "3.12.0"
  }
 },
 "nbformat": 4,
 "nbformat_minor": 2
}
