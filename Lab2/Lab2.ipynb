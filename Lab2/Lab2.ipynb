{
 "cells": [
  {
   "cell_type": "markdown",
   "metadata": {},
   "source": [
    "Студент вирішив придбати ПК, є 3 варіанти купівлі A, B, C. Як критерії виступають: м (К1), Якість (К2), Бренд (К3)."
   ]
  },
  {
   "cell_type": "code",
   "execution_count": 8,
   "metadata": {},
   "outputs": [],
   "source": [
    "import numpy as np\n",
    "\n",
    "expert_one_criteria = [\n",
    "   [1, 0.2, 5], \n",
    "   [5, 1, 8], \n",
    "   [0.2, 0.125, 1]\n",
    "]\n",
    "\n",
    "expert_two_criteria = [\n",
    "   [1, 0.25, 4], \n",
    "   [4, 1, 8], \n",
    "   [0.25, 0.125, 1]\n",
    "]\n",
    "\n",
    "k1_expert_one = [\n",
    "    [1, 4, 5],\n",
    "    [0.25, 1, 2],\n",
    "    [0.2, 0.5, 1]\n",
    "]\n",
    "\n",
    "k1_expert_two = [\n",
    "    [1, 5, 4],\n",
    "    [0.2, 1, 0.25],\n",
    "    [0.25, 4, 1]\n",
    "]\n",
    "\n",
    "k2_expert_one = [\n",
    "    [1, 2, 4],\n",
    "    [0.5, 1, 4],\n",
    "    [0.25, 0.25, 1]\n",
    "]\n",
    "\n",
    "k2_expert_two = [\n",
    "    [1, 2, 5],\n",
    "    [0.5, 1, 4],\n",
    "    [0.2, 0.25, 1]\n",
    "]\n",
    "\n",
    "k3_expert_one = [\n",
    "    [1, 0.5, 2],\n",
    "    [2, 1, 5],\n",
    "    [0.5, 0.2, 1]\n",
    "]\n",
    "\n",
    "k3_expert_two = [\n",
    "    [1, 0.25, 5],\n",
    "    [4, 1, 8],\n",
    "    [0.2, 0.125, 1]\n",
    "]"
   ]
  },
  {
   "cell_type": "code",
   "execution_count": 15,
   "metadata": {},
   "outputs": [
    {
     "name": "stdout",
     "output_type": "stream",
     "text": [
      "Ваги критеріїв (експерт 1): [0.212208181012771, 0.7257417704397059, 0.06205004854752292]\n",
      "Ваги критеріїв (експерт 2): [0.2227279450071802, 0.7071171484142262, 0.07015490657859351]\n",
      "Середній пріоритет критеріїв: [0.2174044435394231, 0.7163689351154312, 0.065978143040318]\n"
     ]
    }
   ],
   "source": [
    "def calculate_normalized_geometric_means(matrix):\n",
    "    # Функція для обчислення середнього геометричного значення списку\n",
    "    def geometric_mean(lst):\n",
    "        product = np.prod(lst)  \n",
    "        geometric_mean = product ** (1 / len(lst)) \n",
    "        return geometric_mean\n",
    "\n",
    "    # Обчислення середнього геометричного для кожного рядка\n",
    "    geometric_means = [geometric_mean(row) for row in matrix]\n",
    "\n",
    "    # Обчислення суми всіх середніх геометричних\n",
    "    total_geometric_sum = sum(geometric_means)\n",
    "\n",
    "    # Поділ середнього геометричного кожного рядка на суму всіх середніх геометричних\n",
    "    normalized_geometric_means = [mean / total_geometric_sum for mean in geometric_means]\n",
    "\n",
    "    return normalized_geometric_means\n",
    "\n",
    "criteria_weights_expert_one = calculate_normalized_geometric_means(expert_one_criteria)\n",
    "criteria_weights_expert_two = calculate_normalized_geometric_means(expert_two_criteria)\n",
    "\n",
    "print(\"Ваги критеріїв (експерт 1):\", criteria_weights_expert_one)\n",
    "print(\"Ваги критеріїв (експерт 2):\", criteria_weights_expert_two)\n",
    "\n",
    "# Calculate the average priority of criteria between two experts\n",
    "average_priority = [(w1 * w2) ** 0.5 for w1, w2 in zip(criteria_weights_expert_one, criteria_weights_expert_two)]\n",
    "\n",
    "print(\"Середній пріоритет критеріїв:\", average_priority)\n"
   ]
  },
  {
   "cell_type": "code",
   "execution_count": 10,
   "metadata": {},
   "outputs": [
    {
     "name": "stdout",
     "output_type": "stream",
     "text": [
      "Критерій 1 (експерт 1): [0.6833404616215991, 0.19980996310201243, 0.11684957527638852]\n",
      "Критерій 1 (експерт 2): [0.6648387896168013, 0.09023250613657405, 0.24492870424662458]\n",
      "Критерій 1: [0.68334046 0.19980996 0.2449287 ]\n"
     ]
    }
   ],
   "source": [
    "k1_weights_expert_one = calculate_normalized_geometric_means(k1_expert_one)\n",
    "k1_weights_expert_two = calculate_normalized_geometric_means(k1_expert_two)\n",
    "\n",
    "print(\"Критерій 1 (експерт 1):\", k1_weights_expert_one)\n",
    "print(\"Критерій 1 (експерт 2):\", k1_weights_expert_two)\n",
    "\n",
    "max_weights_k1 = np.maximum(k1_weights_expert_one, k1_weights_expert_two)\n",
    "print(\"Критерій 1:\", max_weights_k1)"
   ]
  },
  {
   "cell_type": "code",
   "execution_count": 11,
   "metadata": {},
   "outputs": [
    {
     "name": "stdout",
     "output_type": "stream",
     "text": [
      "Критерій 2 (експерт 1): [0.5469305649362726, 0.3445446657970523, 0.10852476926667509]\n",
      "Критерій 2 (експерт 2): [0.5695405794554974, 0.33306935139198174, 0.09739006915252088]\n",
      "Критерій 2: [0.56954058 0.34454467 0.10852477]\n"
     ]
    }
   ],
   "source": [
    "k2_weights_expert_one = calculate_normalized_geometric_means(k2_expert_one)\n",
    "k2_weights_expert_two = calculate_normalized_geometric_means(k2_expert_two)\n",
    "\n",
    "print(\"Критерій 2 (експерт 1):\", k2_weights_expert_one)\n",
    "print(\"Критерій 2 (експерт 2):\", k2_weights_expert_two)\n",
    "\n",
    "max_weights_k2 = np.maximum(k2_weights_expert_one, k2_weights_expert_two)\n",
    "print(\"Критерій 2:\", max_weights_k2)"
   ]
  },
  {
   "cell_type": "code",
   "execution_count": 12,
   "metadata": {},
   "outputs": [
    {
     "name": "stdout",
     "output_type": "stream",
     "text": [
      "Критерій 3 (експерт 1): [0.27635046039787725, 0.595379018487469, 0.12827052111465376]\n",
      "Критерій 3 (експерт 2): [0.23704170282843554, 0.6986152797690484, 0.06434301740251601]\n",
      "Критерій 3: [0.27635046 0.69861528 0.12827052]\n"
     ]
    }
   ],
   "source": [
    "k3_weights_expert_one = calculate_normalized_geometric_means(k3_expert_one)\n",
    "k3_weights_expert_two = calculate_normalized_geometric_means(k3_expert_two)\n",
    "\n",
    "print(\"Критерій 3 (експерт 1):\", k3_weights_expert_one)\n",
    "print(\"Критерій 3 (експерт 2):\", k3_weights_expert_two)\n",
    "\n",
    "max_weights_k3 = np.maximum(k3_weights_expert_one, k3_weights_expert_two)\n",
    "print(\"Критерій 3:\", max_weights_k3)"
   ]
  },
  {
   "cell_type": "code",
   "execution_count": 13,
   "metadata": {},
   "outputs": [
    {
     "name": "stdout",
     "output_type": "stream",
     "text": [
      "Глобальні пріоритети: [0.5747955214217655, 0.33635400803731624, 0.13945541283674404]\n",
      "Найкращий ПК - ПК1 з глобальним пріорітетом: 0.5747955214217655\n"
     ]
    }
   ],
   "source": [
    "global_priorities3 = [] \n",
    "for i in range(len(max_weights_k1)):\n",
    "    for j in range(len(max_weights_k1)):\n",
    "        # Розраховуємо глобальний пріоритет для поточного ПК та додаємо його до рядка\n",
    "        cell_value = max_weights_k1[i] * average_priority[0] + max_weights_k2[i] * average_priority[1] + max_weights_k3[i] * average_priority[2]\n",
    "    global_priorities3.append(cell_value)\n",
    "print(\"Глобальні пріоритети:\", global_priorities3)\n",
    "\n",
    "best_pc_index = np.argmax(global_priorities3)\n",
    "print(f\"Найкращий ПК - ПК{(best_pc_index + 1)} з глобальним пріорітетом: {global_priorities3[best_pc_index]}\")\n"
   ]
  }
 ],
 "metadata": {
  "kernelspec": {
   "display_name": "Python 3",
   "language": "python",
   "name": "python3"
  },
  "language_info": {
   "codemirror_mode": {
    "name": "ipython",
    "version": 3
   },
   "file_extension": ".py",
   "mimetype": "text/x-python",
   "name": "python",
   "nbconvert_exporter": "python",
   "pygments_lexer": "ipython3",
   "version": "3.12.0"
  }
 },
 "nbformat": 4,
 "nbformat_minor": 2
}
